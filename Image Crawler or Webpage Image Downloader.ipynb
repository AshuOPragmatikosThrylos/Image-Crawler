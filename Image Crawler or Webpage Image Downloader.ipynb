{
 "cells": [
  {
   "cell_type": "code",
   "execution_count": null,
   "metadata": {},
   "outputs": [],
   "source": [
    "from bs4 import *\n",
    "import requests as rq\n",
    "import os\n",
    "\n",
    "r2 = rq.get('https://www.pexels.com/@hiteshchoudhary')\n",
    "soup2 = BeautifulSoup(r2.text,'html.parser')\n",
    "\n",
    "links = []\n",
    "\n",
    "x = soup2.select('img[src^=\"https://images.pexels.com/photos\"]')\n",
    "\n",
    "for img in x:\n",
    "    links.append(img['src'])\n",
    "\n",
    "os.mkdir('photos')\n",
    "i = 1\n",
    "for index,img_link in enumerate(links):\n",
    "    if i <= 20:\n",
    "        img_data = rq.get(img_link).content\n",
    "        with open('photos\\\\'+str(index+1)+'.jpg','wb+') as f:\n",
    "            f.write(img_data)\n",
    "\n",
    "        i += 1\n",
    "    else:\n",
    "        f.close()\n",
    "        break"
   ]
  }
 ],
 "metadata": {
  "kernelspec": {
   "display_name": "Python 3",
   "language": "python",
   "name": "python3"
  },
  "language_info": {
   "codemirror_mode": {
    "name": "ipython",
    "version": 3
   },
   "file_extension": ".py",
   "mimetype": "text/x-python",
   "name": "python",
   "nbconvert_exporter": "python",
   "pygments_lexer": "ipython3",
   "version": "3.7.6"
  }
 },
 "nbformat": 4,
 "nbformat_minor": 4
}
