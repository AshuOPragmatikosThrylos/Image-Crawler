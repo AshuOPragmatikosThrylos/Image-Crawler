{
 "cells": [
  {
   "cell_type": "markdown",
   "metadata": {},
   "source": [
    "Write down a selenium script to download top 20 posts of Instagram. Now you have to print if any human is there in the photo or not and if multiple humans are present, print the total number of humans in the console for each photo."
   ]
  },
  {
   "cell_type": "code",
   "execution_count": null,
   "metadata": {},
   "outputs": [],
   "source": [
    "from selenium import webdriver\n",
    "from selenium.webdriver.common.keys import Keys\n",
    "import cv2\n",
    "import requests as rq\n",
    "import bs4\n",
    "import time\n",
    "import os\n",
    "\n",
    "\n",
    "driver = webdriver.Chrome(executable_path = \"C:\\\\chromedriver.exe\")\n",
    "driver.get(\"https://www.instagram.com/accounts/login/?hl=en&source=auth_switcher\")\n",
    "time.sleep(3)\n",
    "mobileno = driver.find_element_by_xpath('/html/body/div[1]/section/main/div/article/div/div[1]/div/form/div[2]/div/label/input')\n",
    "mobileno.send_keys(\"ashutosh3830258@gmail.com\")\n",
    "password = driver.find_element_by_xpath('/html/body/div[1]/section/main/div/article/div/div[1]/div/form/div[3]/div/label/input')\n",
    "password.send_keys('5124Aap')\n",
    "login_btn = driver.find_element_by_xpath('/html/body/div[1]/section/main/div/article/div/div[1]/div/form/div[4]')\n",
    "login_btn.click()\n",
    "time.sleep(5)\n",
    "not_now_btn = driver.find_element_by_xpath('/html/body/div[4]/div/div/div[3]/button[2]')\n",
    "not_now_btn.click()\n",
    "time.sleep(3)\n",
    "explore_btn = driver.find_element_by_xpath('/html/body/div[1]/section/nav/div[2]/div/div/div[3]/div/div[1]/a')\n",
    "explore_btn.click()\n",
    "time.sleep(3)\n",
    "\n",
    "data = driver.page_source\n",
    "soup = bs4.BeautifulSoup(data,'html.parser')\n",
    "\n",
    "links = []\n",
    "\n",
    "x = soup.select('img[src^=\"https://instagram.fdel9-1.fna.fbcdn.net/v/t51.2885-15\"]')\n",
    "\n",
    "for img in x:\n",
    "    links.append(img['src'])\n",
    "    \n",
    "os.mkdir('insta_photos')\n",
    "i = 1   \n",
    "\n",
    "for index,img_link in enumerate(links):\n",
    "    if i <= 20:\n",
    "        img_data = rq.get(img_link).content\n",
    "        with open('insta_photos\\\\'+str(index+1)+'.jpg','wb') as f:\n",
    "            f.write(img_data)\n",
    "\n",
    "        i += 1\n",
    "    else:\n",
    "        break\n",
    "\n",
    "for i in range(1,21):\n",
    "    detector = cv2.CascadeClassifier(\"F:\\\\anaconda\\\\Lib\\\\site-packages\\\\cv2\\\\data\\\\haarcascade_frontalface_default.xml\")\n",
    "    image = img = cv2.imread('insta_photos\\\\'+str(i)+'.jpg')\n",
    "    faces = detector.detectMultiScale(image,1.3,5)\n",
    "    print(\"Post \"+str(i)+\": \"+str(len(faces)))\n",
    "        "
   ]
  }
 ],
 "metadata": {
  "kernelspec": {
   "display_name": "Python 3",
   "language": "python",
   "name": "python3"
  },
  "language_info": {
   "codemirror_mode": {
    "name": "ipython",
    "version": 3
   },
   "file_extension": ".py",
   "mimetype": "text/x-python",
   "name": "python",
   "nbconvert_exporter": "python",
   "pygments_lexer": "ipython3",
   "version": "3.7.6"
  }
 },
 "nbformat": 4,
 "nbformat_minor": 4
}
